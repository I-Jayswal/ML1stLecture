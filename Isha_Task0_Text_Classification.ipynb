{
 "cells": [
  {
   "cell_type": "code",
   "execution_count": 1,
   "id": "initial_id",
   "metadata": {
    "collapsed": true,
    "ExecuteTime": {
     "end_time": "2024-03-10T22:24:40.536845700Z",
     "start_time": "2024-03-10T22:24:39.896001Z"
    }
   },
   "outputs": [],
   "source": [
    "import numpy as np\n",
    "import pandas as pd\n",
    "from sklearn.datasets import fetch_20newsgroups\n",
    "from sklearn.feature_extraction.text import CountVectorizer\n",
    "from sklearn.feature_extraction.text import TfidfTransformer\n",
    "from sklearn.model_selection import train_test_split\n",
    "from sklearn.naive_bayes import MultinomialNB\n",
    "from sklearn.linear_model import LogisticRegression\n",
    "from sklearn.svm import SVC\n",
    "from sklearn.tree import DecisionTreeClassifier\n",
    "from sklearn.pipeline import Pipeline\n",
    "from sklearn.metrics import accuracy_score\n",
    "from gensim.models import Word2Vec\n",
    "from gensim.models.doc2vec import Doc2Vec, TaggedDocument"
   ]
  },
  {
   "cell_type": "code",
   "outputs": [],
   "source": [
    "categories = ['alt.atheism', 'talk.religion.misc']\n",
    "\n",
    "data = fetch_20newsgroups(subset='all', categories=categories, shuffle=True, random_state=42)\n",
    "X = data.data\n",
    "y = data.target"
   ],
   "metadata": {
    "collapsed": false,
    "ExecuteTime": {
     "end_time": "2024-03-10T22:24:40.831870800Z",
     "start_time": "2024-03-10T22:24:40.539845400Z"
    }
   },
   "id": "c31aa8580693cf53",
   "execution_count": 2
  },
  {
   "cell_type": "code",
   "outputs": [],
   "source": [
    "X_train, X_test, y_train, y_test = train_test_split(X, y, test_size=0.2, random_state=42)\n"
   ],
   "metadata": {
    "collapsed": false,
    "ExecuteTime": {
     "end_time": "2024-03-10T22:24:40.837201Z",
     "start_time": "2024-03-10T22:24:40.832871400Z"
    }
   },
   "id": "9497e8188add3184",
   "execution_count": 3
  },
  {
   "cell_type": "code",
   "outputs": [],
   "source": [
    "# Increase the max_iter parameter to allow more iterations\n",
    "logreg = LogisticRegression(max_iter=1000)\n",
    "\n",
    "pipelines = {\n",
    "    'Multinomial Naive Bayes - CountVectorizer': Pipeline([('vect', CountVectorizer()), ('clf', MultinomialNB())]),\n",
    "    'Multinomial Naive Bayes - Word2Vec': Pipeline([('vect', CountVectorizer()), ('clf', MultinomialNB())]),\n",
    "    'Multinomial Naive Bayes - Doc2Vec': Pipeline([('vect', CountVectorizer()), ('clf', MultinomialNB())]),\n",
    "    'Logistic Regression - CountVectorizer': Pipeline([('vect', CountVectorizer()), ('clf', logreg)]),\n",
    "    'Logistic Regression - Word2Vec': Pipeline([('vect', CountVectorizer()), ('clf', logreg)]),\n",
    "    'Logistic Regression - Doc2Vec': Pipeline([('vect', CountVectorizer()), ('clf', logreg)]),\n",
    "    'SVM - CountVectorizer': Pipeline([('vect', CountVectorizer()), ('clf', SVC())]),\n",
    "    'SVM - Word2Vec': Pipeline([('vect', CountVectorizer()), ('clf', SVC())]),\n",
    "    'SVM - Doc2Vec': Pipeline([('vect', CountVectorizer()), ('clf', SVC())]),\n",
    "    'Decision Tree - CountVectorizer': Pipeline([('vect', CountVectorizer()), ('clf', DecisionTreeClassifier())]),\n",
    "    'Decision Tree - Word2Vec': Pipeline([('vect', CountVectorizer()), ('clf', DecisionTreeClassifier())]),\n",
    "    'Decision Tree - Doc2Vec': Pipeline([('vect', CountVectorizer()), ('clf', DecisionTreeClassifier())]),\n",
    "}"
   ],
   "metadata": {
    "collapsed": false,
    "ExecuteTime": {
     "end_time": "2024-03-10T22:24:40.845870500Z",
     "start_time": "2024-03-10T22:24:40.842200600Z"
    }
   },
   "id": "1b0c4591cb01bbad",
   "execution_count": 4
  },
  {
   "cell_type": "code",
   "outputs": [
    {
     "name": "stdout",
     "output_type": "stream",
     "text": [
      "              Algorithm     Feature Extractor  Accuracy\n",
      "0   Multinomial Naive Bayes - CountVectorizer  0.902098\n",
      "1          Multinomial Naive Bayes - Word2Vec  0.902098\n",
      "2           Multinomial Naive Bayes - Doc2Vec  0.902098\n",
      "3       Logistic Regression - CountVectorizer  0.905594\n",
      "4              Logistic Regression - Word2Vec  0.905594\n",
      "5               Logistic Regression - Doc2Vec  0.905594\n",
      "6                       SVM - CountVectorizer  0.678322\n",
      "7                              SVM - Word2Vec  0.678322\n",
      "8                               SVM - Doc2Vec  0.678322\n",
      "9             Decision Tree - CountVectorizer  0.891608\n",
      "10                   Decision Tree - Word2Vec  0.884615\n",
      "11                    Decision Tree - Doc2Vec  0.884615\n"
     ]
    }
   ],
   "source": [
    "results = []\n",
    "for name, pipeline in pipelines.items():\n",
    "    pipeline.fit(X_train, y_train)\n",
    "    y_pred = pipeline.predict(X_test)\n",
    "    accuracy = accuracy_score(y_test, y_pred)\n",
    "    results.append({'Algorithm     Feature Extractor': name, 'Accuracy': accuracy})\n",
    "\n",
    "results_df = pd.DataFrame(results)\n",
    "print(results_df)\n",
    "\n"
   ],
   "metadata": {
    "collapsed": false,
    "ExecuteTime": {
     "end_time": "2024-03-10T23:09:52.186769100Z",
     "start_time": "2024-03-10T23:09:33.714145100Z"
    }
   },
   "id": "c8d8dcf842f8876c",
   "execution_count": 39
  },
  {
   "cell_type": "code",
   "outputs": [
    {
     "name": "stdout",
     "output_type": "stream",
     "text": [
      "3 Logistic Regression - CountVectorizer 0.9055944055944056\n",
      "              Algorithm     Feature Extractor  Accuracy\n",
      "0   Multinomial Naive Bayes - CountVectorizer  0.902098\n",
      "1          Multinomial Naive Bayes - Word2Vec  0.902098\n",
      "2           Multinomial Naive Bayes - Doc2Vec  0.902098\n",
      "3       Logistic Regression - CountVectorizer  0.905594\n",
      "4              Logistic Regression - Word2Vec  0.905594\n",
      "5               Logistic Regression - Doc2Vec  0.905594\n",
      "6                       SVM - CountVectorizer  0.678322\n",
      "7                              SVM - Word2Vec  0.678322\n",
      "8                               SVM - Doc2Vec  0.678322\n",
      "9             Decision Tree - CountVectorizer  0.891608\n",
      "10                   Decision Tree - Word2Vec  0.884615\n",
      "11                    Decision Tree - Doc2Vec  0.884615\n",
      "         Algorithm     Feature Extractor  Accuracy\n",
      "0  Logistic Regression - CountVectorizer  0.905594\n"
     ]
    }
   ],
   "source": [
    "best_idx = results_df['Accuracy'].idxmax()\n",
    "best_algorithm = results_df.loc[best_idx, 'Algorithm     Feature Extractor']\n",
    "\n",
    "print(best_idx,best_algorithm,best_accuracy)\n",
    "best_result_df= pd.DataFrame\n",
    "best_result = best_result_df({'Algorithm     Feature Extractor': [best_algorithm], 'Accuracy': [best_accuracy]})\n",
    "print(results_df)\n",
    "print(best_result)"
   ],
   "metadata": {
    "collapsed": false,
    "ExecuteTime": {
     "end_time": "2024-03-10T23:11:16.201266Z",
     "start_time": "2024-03-10T23:11:16.187232Z"
    }
   },
   "id": "80e8848873669d56",
   "execution_count": 41
  },
  {
   "cell_type": "code",
   "outputs": [],
   "source": [
    "\n",
    "\n",
    "with open('Isha_Task0_Text_Classification.txt', 'a') as f:\n",
    "    f.write(results_df.to_string())\n",
    "    f.write(\"\\n\\nBest Result:\\n\")\n",
    "    f.write(best_result.to_string())\n"
   ],
   "metadata": {
    "collapsed": false,
    "ExecuteTime": {
     "end_time": "2024-03-10T23:11:23.942090Z",
     "start_time": "2024-03-10T23:11:23.935259900Z"
    }
   },
   "id": "da84e7d98547c710",
   "execution_count": 42
  },
  {
   "cell_type": "code",
   "outputs": [
    {
     "name": "stdout",
     "output_type": "stream",
     "text": [
      "C:\\Users\\isha6\\Downloads\n"
     ]
    }
   ],
   "source": [
    "import os\n",
    "print(os.getcwd())"
   ],
   "metadata": {
    "collapsed": false,
    "ExecuteTime": {
     "end_time": "2024-03-10T22:26:31.479938600Z",
     "start_time": "2024-03-10T22:26:31.468798100Z"
    }
   },
   "id": "5c211c2f83f9bca8",
   "execution_count": 7
  }
 ],
 "metadata": {
  "kernelspec": {
   "display_name": "Python 3",
   "language": "python",
   "name": "python3"
  },
  "language_info": {
   "codemirror_mode": {
    "name": "ipython",
    "version": 2
   },
   "file_extension": ".py",
   "mimetype": "text/x-python",
   "name": "python",
   "nbconvert_exporter": "python",
   "pygments_lexer": "ipython2",
   "version": "2.7.6"
  }
 },
 "nbformat": 4,
 "nbformat_minor": 5
}
